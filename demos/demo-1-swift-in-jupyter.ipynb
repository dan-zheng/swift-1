{
 "cells": [
  {
   "cell_type": "markdown",
   "metadata": {
    "colab_type": "text",
    "id": "UxBp_tVjT6fB"
   },
   "source": [
    "## 第一步"
   ]
  },
  {
   "cell_type": "code",
   "execution_count": null,
   "metadata": {
    "colab": {},
    "colab_type": "code",
    "id": "kZRlD4utdPuX"
   },
   "outputs": [],
   "source": [
    "let pi = 3.14\n",
    "let y = [1, 2, 3]\n",
    "print(\"欢迎来到 Google Developer Days！\")"
   ]
  },
  {
   "cell_type": "code",
   "execution_count": null,
   "metadata": {
    "colab": {},
    "colab_type": "code",
    "id": "MZ4SL4_SUA3Z"
   },
   "outputs": [],
   "source": [
    "let someNumbers = [\n",
    "        \"Prime\": [2, 3, 5, 7, 11, 13],\n",
    "    \"Fibonacci\": [1, 1, 2, 3, 5, 8],\n",
    "       \"Square\": [1, 4, 9, 16, 25],\n",
    "]\n",
    "\n",
    "for (kind, numbers) in someNumbers {\n",
    "    var largest = 0\n",
    "    for x in numbers where x > largest && x.isEven {\n",
    "        largest = x\n",
    "    }\n",
    "    print(\"The largest even \\(kind) is \\(largest)\")\n",
    "}"
   ]
  },
  {
   "cell_type": "markdown",
   "metadata": {
    "colab_type": "text",
    "id": "_ZSM3m9mUT2F"
   },
   "source": [
    "## Tensor 库"
   ]
  },
  {
   "cell_type": "code",
   "execution_count": null,
   "metadata": {
    "colab": {},
    "colab_type": "code",
    "id": "EAXKpVXRUVSt"
   },
   "outputs": [],
   "source": [
    "import TensorFlow\n",
    "\n",
    "let x: Tensor<Float> = [[[1, 2], [4, 5]]]\n",
    "\n",
    "print(\"x + x =\\n\\(x + x)\\n\")\n",
    "print(\"sum = \\(x.sum())\")\n",
    "print(\"stddev = \\(x.standardDeviation(squeezingAxes: 0, 1))\")"
   ]
  },
  {
   "cell_type": "markdown",
   "metadata": {
    "colab_type": "text",
    "id": "sv8CE8X5Z9Rn"
   },
   "source": [
    "## 深度学习"
   ]
  },
  {
   "cell_type": "code",
   "execution_count": null,
   "metadata": {},
   "outputs": [],
   "source": [
    "var model = Sequential {\n",
    "    Conv2D<Float>(filterShape: (5, 5, 3, 6))\n",
    "    MaxPool2D<Float>(poolSize: (2, 2), strides: (2, 2))\n",
    "    Flatten<Float>()\n",
    "    Dense<Float>(inputSize: 36 * 6, outputSize: 10)\n",
    "}"
   ]
  },
  {
   "cell_type": "code",
   "execution_count": null,
   "metadata": {
    "colab": {},
    "colab_type": "code",
    "id": "6tbiNzRa5uYq"
   },
   "outputs": [],
   "source": [
    "// Use random training data.\n",
    "let x = Tensor<Float>(randomNormal: [10, 16, 16, 3])\n",
    "let y = Tensor<Int32>(rangeFrom: 0, to: 10, stride: 1)"
   ]
  },
  {
   "cell_type": "code",
   "execution_count": null,
   "metadata": {
    "colab": {},
    "colab_type": "code",
    "id": "rOI-yWFb5v9f"
   },
   "outputs": [],
   "source": [
    "let optimizer = SGD(for: model)\n",
    "Context.local.learningPhase = .training"
   ]
  },
  {
   "cell_type": "code",
   "execution_count": null,
   "metadata": {
    "colab": {},
    "colab_type": "code",
    "id": "MB4tX4gP5xXr"
   },
   "outputs": [],
   "source": [
    "for i in 1...10 {\n",
    "    let (loss, grads) = valueWithGradient(at: model) { model -> Tensor<Float> in\n",
    "        let logits = model(x)\n",
    "        return softmaxCrossEntropy(logits: logits, labels: y)\n",
    "    }\n",
    "    print(\"第 \\(i) 步, 损失值: \\(loss)\")\n",
    "    optimizer.update(&model, along: grads)\n",
    "}"
   ]
  },
  {
   "cell_type": "markdown",
   "metadata": {},
   "source": [
    "## 自定义 Model"
   ]
  },
  {
   "cell_type": "code",
   "execution_count": null,
   "metadata": {
    "colab": {},
    "colab_type": "code",
    "id": "oXWTF_8zUY_z"
   },
   "outputs": [],
   "source": [
    "struct Model: Layer {\n",
    "    var conv = Conv2D<Float>(filterShape: (5, 5, 3, 6))\n",
    "    var maxPool = MaxPool2D<Float>(poolSize: (2, 2), strides: (2, 2))\n",
    "    var flatten = Flatten<Float>()\n",
    "    var dense = Dense<Float>(inputSize: 36 * 6, outputSize: 10)\n",
    "\n",
    "    @differentiable\n",
    "    func callAsFunction(_ input: Tensor<Float>) -> Tensor<Float> {\n",
    "        return dense(flatten(maxPool(conv(input))))\n",
    "    }\n",
    "}"
   ]
  }
 ],
 "metadata": {
  "accelerator": "GPU",
  "colab": {
   "collapsed_sections": [],
   "name": "Demo 1 - Swift in Colab.ipynb",
   "provenance": [],
   "version": "0.3.2"
  },
  "kernelspec": {
   "display_name": "Swift",
   "language": "swift",
   "name": "swift"
  },
  "language_info": {
   "file_extension": ".swift",
   "mimetype": "text/x-swift",
   "name": "swift",
   "version": ""
  }
 },
 "nbformat": 4,
 "nbformat_minor": 1
}
