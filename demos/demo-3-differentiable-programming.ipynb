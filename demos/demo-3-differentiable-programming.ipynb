{
 "cells": [
  {
   "cell_type": "markdown",
   "metadata": {
    "colab_type": "text",
    "id": "sayFndrEcJ04"
   },
   "source": [
    "# 微分编程\n",
    "\n",
    "## 对函数求导"
   ]
  },
  {
   "cell_type": "markdown",
   "metadata": {
    "colab_type": "text",
    "id": "-KQZ64JReiwa"
   },
   "source": [
    "# $$f(x, y) = x^2 + y \\ \\ \\ \\ \\ \\ \\ \\ \\ \\ f(3, 2) = 11$$"
   ]
  },
  {
   "cell_type": "code",
   "execution_count": null,
   "metadata": {
    "colab": {},
    "colab_type": "code",
    "id": "kZRlD4utdPuX"
   },
   "outputs": [],
   "source": [
    "func f(_ x: Double, _ y: Double) -> Double {\n",
    "    return x * x + y\n",
    "}\n",
    "print(f(3, 2))"
   ]
  },
  {
   "cell_type": "markdown",
   "metadata": {
    "colab_type": "text",
    "id": "cmWspCP_evAF"
   },
   "source": [
    "# $$\\nabla f(x, y) = \\langle 2x, 1 \\rangle \\ \\ \\ \\ \\ \\ \\ \\ \\ \\ \\nabla f(3, 2) = \\langle 6, 1 \\rangle$$"
   ]
  },
  {
   "cell_type": "code",
   "execution_count": null,
   "metadata": {
    "colab": {},
    "colab_type": "code",
    "id": "lHuF1RMNevKf"
   },
   "outputs": [],
   "source": [
    "print(gradient(at: 3, 2, in: f))"
   ]
  },
  {
   "cell_type": "markdown",
   "metadata": {
    "colab_type": "text",
    "id": "tISIqfPwhebV"
   },
   "source": [
    "# $$g(x, y) = f(2x, \\sqrt{y}) \\ \\ \\ \\ \\ \\ \\ \\ \\ \\ \\nabla g(x, y) = \\text{?}$$"
   ]
  },
  {
   "cell_type": "code",
   "execution_count": null,
   "metadata": {
    "colab": {},
    "colab_type": "code",
    "id": "buejSCmvYvyN"
   },
   "outputs": [],
   "source": [
    "func g(_ x: Double, _ y: Double) -> Double {\n",
    "    return f(2 * x, y.squareRoot())\n",
    "}\n",
    "\n",
    "let z = valueWithGradient(at: 2, 4, in: g)\n",
    "\n",
    "print(z)"
   ]
  },
  {
   "cell_type": "markdown",
   "metadata": {
    "colab_type": "text",
    "id": "00MzGEfDYHJn"
   },
   "source": [
    "## 创建自定义可微分类型"
   ]
  },
  {
   "cell_type": "code",
   "execution_count": null,
   "metadata": {
    "colab": {},
    "colab_type": "code",
    "id": "yVrHh-kfYJSG"
   },
   "outputs": [],
   "source": [
    "struct Vector {\n",
    "    var x, y: Double\n",
    "}\n",
    "\n",
    "func dot(_ lhs: Vector, _ rhs: Vector) -> Double {\n",
    "    return lhs.x * rhs.x + lhs.y * rhs.y\n",
    "}\n",
    "\n",
    "let a = Vector(x: 1, y: 2)\n",
    "let b = Vector(x: 2, y: 1)\n",
    "\n",
    "let grads = gradient(at: a, b, in: dot)\n",
    "print(grads.0.x, grads.1.y)"
   ]
  },
  {
   "cell_type": "code",
   "execution_count": null,
   "metadata": {
    "colab": {},
    "colab_type": "code",
    "id": "oE212PQ9-pok"
   },
   "outputs": [],
   "source": [
    "extension Vector {\n",
    "    func roundedSum() -> Double {\n",
    "        return Double(Int(x) + Int(y))\n",
    "    }\n",
    "}"
   ]
  },
  {
   "cell_type": "markdown",
   "metadata": {
    "colab_type": "text",
    "id": "HTelavYQwR_b"
   },
   "source": [
    "## 自定义为分"
   ]
  },
  {
   "cell_type": "code",
   "execution_count": null,
   "metadata": {
    "colab": {},
    "colab_type": "code",
    "id": "3aex_h5nyyNz"
   },
   "outputs": [],
   "source": [
    "import Glibc\n",
    "\n",
    "gradient(at: 4) { x in\n",
    "    sqrt(x)\n",
    "}"
   ]
  },
  {
   "cell_type": "markdown",
   "metadata": {
    "colab_type": "text",
    "id": "Rt63uqKu7-v9"
   },
   "source": [
    "# $$\\frac{d \\sqrt{x}}{d x} = \\frac{-1}{2 \\sqrt{x}}$$"
   ]
  },
  {
   "cell_type": "code",
   "execution_count": null,
   "metadata": {
    "colab": {},
    "colab_type": "code",
    "id": "GQPg66k36a9j"
   },
   "outputs": [],
   "source": [
    "func squareRoot(_ x: Double) -> Double {\n",
    "    return sqrt(x)\n",
    "}\n",
    "\n",
    "func derivative(_ x: Double) -> (value: Double, pullback: (Double) -> Double) {\n",
    "    let y = sqrt(x)\n",
    "    return (value: y, pullback: { dy in -dy/(2 * y) })\n",
    "}"
   ]
  },
  {
   "cell_type": "code",
   "execution_count": null,
   "metadata": {
    "colab": {},
    "colab_type": "code",
    "id": "AcTWJsWG6upy"
   },
   "outputs": [],
   "source": [
    "gradient(at: 4) { x in\n",
    "    squareRoot(x)\n",
    "}"
   ]
  }
 ],
 "metadata": {
  "colab": {
   "collapsed_sections": [],
   "name": "Demo 3 - Differentiable Programming.ipynb",
   "provenance": [],
   "version": "0.3.2"
  },
  "kernelspec": {
   "display_name": "Swift",
   "language": "swift",
   "name": "swift"
  },
  "language_info": {
   "file_extension": ".swift",
   "mimetype": "text/x-swift",
   "name": "swift",
   "version": ""
  }
 },
 "nbformat": 4,
 "nbformat_minor": 1
}
