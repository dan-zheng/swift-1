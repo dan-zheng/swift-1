{
 "cells": [
  {
   "cell_type": "markdown",
   "metadata": {
    "colab_type": "text",
    "id": "vvThQ0VQuqia"
   },
   "source": [
    "# MiniGo\n",
    "\n",
    "## 使用 Swift 软件包管理器安装 MiniGo"
   ]
  },
  {
   "cell_type": "code",
   "execution_count": null,
   "metadata": {
    "colab": {},
    "colab_type": "code",
    "id": "kZRlD4utdPuX"
   },
   "outputs": [],
   "source": [
    "%install-swiftpm-flags -c release -Xlinker -ltensorflow\n",
    "%install '.package(url: \"https://github.com/tensorflow/swift-models\", .branch(\"tf-roadshow-19\"))' MiniGo"
   ]
  },
  {
   "cell_type": "markdown",
   "metadata": {
    "colab_type": "text",
    "id": "-F8wO28u4GTg"
   },
   "source": [
    "## 导入现有模型"
   ]
  },
  {
   "cell_type": "code",
   "execution_count": null,
   "metadata": {
    "colab": {},
    "colab_type": "code",
    "id": "oymcNgLbzA5B"
   },
   "outputs": [],
   "source": [
    "import TensorFlow\n",
    "import MiniGo\n",
    "import Foundation"
   ]
  },
  {
   "cell_type": "code",
   "execution_count": null,
   "metadata": {
    "colab": {},
    "colab_type": "code",
    "id": "V_H8yKDD0HE3"
   },
   "outputs": [],
   "source": [
    "system(\"\"\"\n",
    "    mkdir -p MiniGo\n",
    "    gsutil cp 'gs://minigo-pub/v15-19x19/models/000939-heron.*' MiniGo/\n",
    "    \"\"\")"
   ]
  },
  {
   "cell_type": "code",
   "execution_count": null,
   "metadata": {
    "colab": {},
    "colab_type": "code",
    "id": "0BfkOO8j2Xvh"
   },
   "outputs": [],
   "source": [
    "let boardSize = 19\n",
    "let modelConfig = ModelConfiguration(boardSize: boardSize)\n",
    "var model = GoModel(configuration: modelConfig)\n",
    "\n",
    "let reader = PythonCheckpointReader(path: \"MiniGo/000939-heron\")\n",
    "model.load(from: reader)"
   ]
  },
  {
   "cell_type": "markdown",
   "metadata": {
    "colab_type": "text",
    "id": "7i5YNqexvFtf"
   },
   "source": [
    "## 设置游戏"
   ]
  },
  {
   "cell_type": "code",
   "execution_count": null,
   "metadata": {
    "colab": {},
    "colab_type": "code",
    "id": "jBJfv3IN3dfg"
   },
   "outputs": [],
   "source": [
    "let simulationCountForOneMove = 40\n",
    "\n",
    "let config = GameConfiguration(\n",
    "    size: boardSize,\n",
    "    komi: 7.5,\n",
    "    isVerboseDebuggingEnabled: false\n",
    ")\n",
    "\n",
    "let predictor = MCTSModelBasedPredictor(boardSize: boardSize, model: model)\n",
    "\n",
    "let mctsConfiguration = MCTSConfiguration(\n",
    "    gameConfiguration: config,\n",
    "    simulationCountForOneMove: simulationCountForOneMove\n",
    ")"
   ]
  },
  {
   "cell_type": "markdown",
   "metadata": {
    "colab_type": "text",
    "id": "Ruu34l8HvJCg"
   },
   "source": [
    "## 玩一轮"
   ]
  },
  {
   "cell_type": "code",
   "execution_count": null,
   "metadata": {
    "colab": {},
    "colab_type": "code",
    "id": "hE32niWM3gyL"
   },
   "outputs": [],
   "source": [
    "try playOneGame(\n",
    "    gameConfiguration: config,\n",
    "    participants: [\n",
    "        MCTSPolicy(participantName: \"black\", predictor: predictor,\n",
    "                   configuration: mctsConfiguration),\n",
    "        MCTSPolicy(participantName: \"white\", predictor: predictor,\n",
    "                   configuration: mctsConfiguration),\n",
    "    ])"
   ]
  }
 ],
 "metadata": {
  "accelerator": "GPU",
  "colab": {
   "collapsed_sections": [],
   "include_colab_link": true,
   "name": "Demo 4 - MiniGo.ipynb",
   "provenance": [],
   "version": "0.3.2"
  },
  "kernelspec": {
   "display_name": "Swift",
   "language": "swift",
   "name": "swift"
  },
  "language_info": {
   "file_extension": ".swift",
   "mimetype": "text/x-swift",
   "name": "swift",
   "version": ""
  }
 },
 "nbformat": 4,
 "nbformat_minor": 1
}
