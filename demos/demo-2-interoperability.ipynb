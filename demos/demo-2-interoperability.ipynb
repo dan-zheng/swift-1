{
 "cells": [
  {
   "cell_type": "markdown",
   "metadata": {
    "colab_type": "text",
    "id": "-1IIvuOcU3nO"
   },
   "source": [
    "# 语言交互"
   ]
  },
  {
   "cell_type": "markdown",
   "metadata": {
    "colab_type": "text",
    "id": "KLJOEl93eyn7"
   },
   "source": [
    "## 直接导入 Python"
   ]
  },
  {
   "cell_type": "code",
   "execution_count": null,
   "metadata": {
    "colab": {},
    "colab_type": "code",
    "id": "kZRlD4utdPuX"
   },
   "outputs": [],
   "source": [
    "import Python"
   ]
  },
  {
   "cell_type": "code",
   "execution_count": null,
   "metadata": {
    "colab": {},
    "colab_type": "code",
    "id": "F6DdXZTcesgD"
   },
   "outputs": [],
   "source": [
    "let np = Python.import(\"numpy\")\n",
    "let plt = Python.import(\"matplotlib.pyplot\")\n",
    "\n",
    "// 打开 Jupyter 的可视化编程功能。\n",
    "%include \"EnableIPythonDisplay.swift\"\n",
    "IPythonDisplay.shell.enable_matplotlib(\"inline\")"
   ]
  },
  {
   "cell_type": "code",
   "execution_count": null,
   "metadata": {
    "colab": {},
    "colab_type": "code",
    "id": "i4FLCl5peuL9"
   },
   "outputs": [],
   "source": [
    "let x = np.linspace(0, 10, 100)\n",
    "\n",
    "plt.plot(x, np.sin(x))\n",
    "plt.plot(x, np.cos(x))\n",
    "\n",
    "plt.show()"
   ]
  },
  {
   "cell_type": "markdown",
   "metadata": {
    "colab_type": "text",
    "id": "EB9huPDde4n6"
   },
   "source": [
    "## 直接导入 C"
   ]
  },
  {
   "cell_type": "code",
   "execution_count": null,
   "metadata": {
    "colab": {},
    "colab_type": "code",
    "id": "nQDTY64he5DO"
   },
   "outputs": [],
   "source": [
    "import Glibc"
   ]
  },
  {
   "cell_type": "code",
   "execution_count": null,
   "metadata": {
    "colab": {},
    "colab_type": "code",
    "id": "fRPjLQvAe-Eb"
   },
   "outputs": [],
   "source": [
    "let address = malloc(32)!\n",
    "let string = address.bindMemory(to: CChar.self, capacity: 32)\n",
    "\n",
    "strcpy(string, \"我们可以直接写 C！\")\n",
    "puts(string)\n",
    "\n",
    "free(address)"
   ]
  }
 ],
 "metadata": {
  "colab": {
   "collapsed_sections": [],
   "name": "Demo 2 - Interoperability.ipynb",
   "provenance": [],
   "version": "0.3.2"
  },
  "kernelspec": {
   "display_name": "Swift",
   "language": "swift",
   "name": "swift"
  },
  "language_info": {
   "file_extension": ".swift",
   "mimetype": "text/x-swift",
   "name": "swift",
   "version": ""
  }
 },
 "nbformat": 4,
 "nbformat_minor": 1
}
