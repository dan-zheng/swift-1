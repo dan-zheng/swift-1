{
 "cells": [
  {
   "cell_type": "markdown",
   "metadata": {
    "colab_type": "text",
    "id": "vvThQ0VQuqia"
   },
   "source": [
    "# MiniGo\n",
    "\n",
    "## 使用 Swift 软件包管理器安装 MiniGo"
   ]
  },
  {
   "cell_type": "code",
   "execution_count": 1,
   "metadata": {
    "colab": {},
    "colab_type": "code",
    "id": "kZRlD4utdPuX"
   },
   "outputs": [
    {
     "name": "stdout",
     "output_type": "stream",
     "text": [
      "Installing packages:\n",
      "\t.package(url: \"https://github.com/tensorflow/swift-models\", .branch(\"tf-roadshow-19\"))\n",
      "\t\tMiniGo\n",
      "With SwiftPM flags: ['-c', 'release', '-Xlinker', '-ltensorflow']\n",
      "Working in: /tmp/tmpl0n_4lz_/swift-install\n",
      "Fetching https://github.com/tensorflow/swift-models\n",
      "Cloning https://github.com/tensorflow/swift-models\n",
      "Resolving https://github.com/tensorflow/swift-models at tf-roadshow-19\n",
      "[1/2] Compiling MiniGo Board.swift\n",
      "[2/3] Compiling jupyterInstalledPackages jupyterInstalledPackages.swift\n",
      "[3/3] Linking libjupyterInstalledPackages.so\n",
      "Initializing Swift...\n",
      "Installation complete!\n"
     ]
    }
   ],
   "source": [
    "%install-swiftpm-flags -c release -Xlinker -ltensorflow\n",
    "%install '.package(url: \"https://github.com/tensorflow/swift-models\", .branch(\"tf-roadshow-19\"))' MiniGo"
   ]
  },
  {
   "cell_type": "markdown",
   "metadata": {
    "colab_type": "text",
    "id": "-F8wO28u4GTg"
   },
   "source": [
    "## 导入现有模型"
   ]
  },
  {
   "cell_type": "code",
   "execution_count": 2,
   "metadata": {
    "colab": {},
    "colab_type": "code",
    "id": "oymcNgLbzA5B"
   },
   "outputs": [],
   "source": [
    "import TensorFlow\n",
    "import MiniGo\n",
    "import Foundation"
   ]
  },
  {
   "cell_type": "code",
   "execution_count": 3,
   "metadata": {
    "colab": {},
    "colab_type": "code",
    "id": "V_H8yKDD0HE3"
   },
   "outputs": [
    {
     "name": "stdout",
     "output_type": "stream",
     "text": [
      "Copying gs://minigo-pub/v15-19x19/models/000939-heron.index...\n",
      "Copying gs://minigo-pub/v15-19x19/models/000939-heron.meta...\n",
      "Copying gs://minigo-pub/v15-19x19/models/000939-heron.pb...\n",
      "/ [4 files][266.2 MiB/266.2 MiB]    5.8 MiB/s\n",
      "Operation completed over 4 objects/266.2 MiB.\n",
      "0\n"
     ]
    }
   ],
   "source": [
    "// 下载现有模型。\n",
    "system(\"\"\"\n",
    "    mkdir -p MiniGo\n",
    "    gsutil cp 'gs://minigo-pub/v15-19x19/models/000939-heron.*' MiniGo/\n",
    "    \"\"\")"
   ]
  },
  {
   "cell_type": "code",
   "execution_count": 4,
   "metadata": {
    "colab": {},
    "colab_type": "code",
    "id": "0BfkOO8j2Xvh"
   },
   "outputs": [],
   "source": [
    "let boardSize = 19\n",
    "let modelConfig = ModelConfiguration(boardSize: boardSize)\n",
    "var model = GoModel(configuration: modelConfig)\n",
    "\n",
    "let reader = PythonCheckpointReader(path: \"MiniGo/000939-heron\")\n",
    "model.load(from: reader)"
   ]
  },
  {
   "cell_type": "markdown",
   "metadata": {
    "colab_type": "text",
    "id": "7i5YNqexvFtf"
   },
   "source": [
    "## 设置游戏"
   ]
  },
  {
   "cell_type": "code",
   "execution_count": 5,
   "metadata": {
    "colab": {},
    "colab_type": "code",
    "id": "jBJfv3IN3dfg"
   },
   "outputs": [],
   "source": [
    "let simulationCountForOneMove = 40\n",
    "\n",
    "let config = GameConfiguration(\n",
    "    size: boardSize,\n",
    "    komi: 7.5,\n",
    "    isVerboseDebuggingEnabled: false\n",
    ")\n",
    "\n",
    "let predictor = MCTSModelBasedPredictor(boardSize: boardSize, model: model)\n",
    "\n",
    "let mctsConfiguration = MCTSConfiguration(\n",
    "    gameConfiguration: config,\n",
    "    simulationCountForOneMove: simulationCountForOneMove\n",
    ")"
   ]
  },
  {
   "cell_type": "markdown",
   "metadata": {
    "colab_type": "text",
    "id": "Ruu34l8HvJCg"
   },
   "source": [
    "## 玩一轮"
   ]
  },
  {
   "cell_type": "code",
   "execution_count": 6,
   "metadata": {
    "colab": {},
    "colab_type": "code",
    "id": "hE32niWM3gyL"
   },
   "outputs": [
    {
     "name": "stdout",
     "output_type": "stream",
     "text": [
      "\n",
      "x/y  0  1  2  3  4  5  6  7  8  9 10 11 12 13 14 15 16 17 18\n",
      "  0  ﹒  ﹒  ﹒  ﹒  ﹒  ﹒  ﹒  ﹒  ﹒  ﹒  ﹒  ﹒  ﹒  ﹒  ﹒  ﹒  ﹒  ﹒  ﹒\n",
      "  1  ﹒  ﹒  ﹒  ﹒  ﹒  ﹒  ﹒  ﹒  ﹒  ﹒  ﹒  ﹒  ﹒  ﹒  ﹒  ﹒  ﹒  ﹒  ﹒\n",
      "  2  ﹒  ﹒  ﹒  ﹒  ﹒  ﹒  ﹒  ﹒  ﹒  ﹒  ﹒  ﹒  ﹒  ﹒  ﹒  ﹒  ﹒  ﹒  ﹒\n",
      "  3  ﹒  ﹒  ﹒  ﹒  ﹒  ﹒  ﹒  ﹒  ﹒  ﹒  ﹒  ﹒  ﹒  ﹒  ﹒  ﹒  ﹒  ﹒  ﹒\n",
      "  4  ﹒  ﹒  ﹒  ﹒  ﹒  ﹒  ﹒  ﹒  ﹒  ﹒  ﹒  ﹒  ﹒  ﹒  ﹒  ﹒  ﹒  ﹒  ﹒\n",
      "  5  ﹒  ﹒  ﹒  ﹒  ﹒  ﹒  ﹒  ﹒  ﹒  ﹒  ﹒  ﹒  ﹒  ﹒  ﹒  ﹒  ﹒  ﹒  ﹒\n",
      "  6  ﹒  ﹒  ﹒  ﹒  ﹒  ﹒  ﹒  ﹒  ﹒  ﹒  ﹒  ﹒  ﹒  ﹒  ﹒  ﹒  ﹒  ﹒  ﹒\n",
      "  7  ﹒  ﹒  ﹒  ﹒  ﹒  ﹒  ﹒  ﹒  ﹒  ﹒  ﹒  ﹒  ﹒  ﹒  ﹒  ﹒  ﹒  ﹒  ﹒\n",
      "  8  ﹒  ﹒  ﹒  ﹒  ﹒  ﹒  ﹒  ﹒  ﹒  ﹒  ﹒  ﹒  ﹒  ﹒  ﹒  ﹒  ﹒  ﹒  ﹒\n",
      "  9  ﹒  ﹒  ﹒  ﹒  ﹒  ﹒  ﹒  ﹒  ﹒  ﹒  ﹒  ﹒  ﹒  ﹒  ﹒  ﹒  ﹒  ﹒  ﹒\n",
      " 10  ﹒  ﹒  ﹒  ﹒  ﹒  ﹒  ﹒  ﹒  ﹒  ﹒  ﹒  ﹒  ﹒  ﹒  ﹒  ﹒  ﹒  ﹒  ﹒\n",
      " 11  ﹒  ﹒  ﹒  ﹒  ﹒  ﹒  ﹒  ﹒  ﹒  ﹒  ﹒  ﹒  ﹒  ﹒  ﹒  ﹒  ﹒  ﹒  ﹒\n",
      " 12  ﹒  ﹒  ﹒  ﹒  ﹒  ﹒  ﹒  ﹒  ﹒  ﹒  ﹒  ﹒  ﹒  ﹒  ﹒  ﹒  ﹒  ﹒  ﹒\n",
      " 13  ﹒  ﹒  ﹒  ﹒  ﹒  ﹒  ﹒  ﹒  ﹒  ﹒  ﹒  ﹒  ﹒  ﹒  ﹒  ﹒  ﹒  ﹒  ﹒\n",
      " 14  ﹒  ﹒  ﹒  ﹒  ﹒  ﹒  ﹒  ﹒  ﹒  ﹒  ﹒  ﹒  ﹒  ﹒  ﹒  ﹒  ﹒  ﹒  ﹒\n",
      " 15  ﹒  ﹒  ﹒  ﹒  ﹒  ﹒  ﹒  ﹒  ﹒  ﹒  ﹒  ﹒  ﹒  ﹒  ﹒  ﹒  ﹒  ﹒  ﹒\n",
      " 16  ﹒  ﹒  ﹒  ﹒  ﹒  ﹒  ﹒  ﹒  ﹒  ﹒  ﹒  ﹒  ﹒  ﹒  ﹒  ﹒  ﹒  ﹒  ﹒\n",
      " 17  ﹒  ﹒  ﹒  ﹒  ﹒  ﹒  ﹒  ﹒  ﹒  ﹒  ﹒  ﹒  ﹒  ﹒  ﹒  ﹒  ﹒  ﹒  ﹒\n",
      " 18  ﹒  ﹒  ﹒  ﹒  ﹒  ﹒  ﹒  ﹒  ﹒  ﹒  ﹒  ﹒  ﹒  ﹒  ﹒  ﹒  ﹒  ﹒  ﹒\n",
      "\n",
      "-> Black\n",
      "- Placing stone at: Position(x: 3, y: 15)\n",
      "\n",
      "x/y  0  1  2  3  4  5  6  7  8  9 10 11 12 13 14 15 16 17 18\n",
      "  0  ﹒  ﹒  ﹒  ﹒  ﹒  ﹒  ﹒  ﹒  ﹒  ﹒  ﹒  ﹒  ﹒  ﹒  ﹒  ﹒  ﹒  ﹒  ﹒\n",
      "  1  ﹒  ﹒  ﹒  ﹒  ﹒  ﹒  ﹒  ﹒  ﹒  ﹒  ﹒  ﹒  ﹒  ﹒  ﹒  ﹒  ﹒  ﹒  ﹒\n",
      "  2  ﹒  ﹒  ﹒  ﹒  ﹒  ﹒  ﹒  ﹒  ﹒  ﹒  ﹒  ﹒  ﹒  ﹒  ﹒  ﹒  ﹒  ﹒  ﹒\n",
      "  3  ﹒  ﹒  ﹒  ﹒  ﹒  ﹒  ﹒  ﹒  ﹒  ﹒  ﹒  ﹒  ﹒  ﹒  ﹒  🔵  ﹒  ﹒  ﹒\n",
      "  4  ﹒  ﹒  ﹒  ﹒  ﹒  ﹒  ﹒  ﹒  ﹒  ﹒  ﹒  ﹒  ﹒  ﹒  ﹒  ﹒  ﹒  ﹒  ﹒\n",
      "  5  ﹒  ﹒  ﹒  ﹒  ﹒  ﹒  ﹒  ﹒  ﹒  ﹒  ﹒  ﹒  ﹒  ﹒  ﹒  ﹒  ﹒  ﹒  ﹒\n",
      "  6  ﹒  ﹒  ﹒  ﹒  ﹒  ﹒  ﹒  ﹒  ﹒  ﹒  ﹒  ﹒  ﹒  ﹒  ﹒  ﹒  ﹒  ﹒  ﹒\n",
      "  7  ﹒  ﹒  ﹒  ﹒  ﹒  ﹒  ﹒  ﹒  ﹒  ﹒  ﹒  ﹒  ﹒  ﹒  ﹒  ﹒  ﹒  ﹒  ﹒\n",
      "  8  ﹒  ﹒  ﹒  ﹒  ﹒  ﹒  ﹒  ﹒  ﹒  ﹒  ﹒  ﹒  ﹒  ﹒  ﹒  ﹒  ﹒  ﹒  ﹒\n",
      "  9  ﹒  ﹒  ﹒  ﹒  ﹒  ﹒  ﹒  ﹒  ﹒  ﹒  ﹒  ﹒  ﹒  ﹒  ﹒  ﹒  ﹒  ﹒  ﹒\n",
      " 10  ﹒  ﹒  ﹒  ﹒  ﹒  ﹒  ﹒  ﹒  ﹒  ﹒  ﹒  ﹒  ﹒  ﹒  ﹒  ﹒  ﹒  ﹒  ﹒\n",
      " 11  ﹒  ﹒  ﹒  ﹒  ﹒  ﹒  ﹒  ﹒  ﹒  ﹒  ﹒  ﹒  ﹒  ﹒  ﹒  ﹒  ﹒  ﹒  ﹒\n",
      " 12  ﹒  ﹒  ﹒  ﹒  ﹒  ﹒  ﹒  ﹒  ﹒  ﹒  ﹒  ﹒  ﹒  ﹒  ﹒  ﹒  ﹒  ﹒  ﹒\n",
      " 13  ﹒  ﹒  ﹒  ﹒  ﹒  ﹒  ﹒  ﹒  ﹒  ﹒  ﹒  ﹒  ﹒  ﹒  ﹒  ﹒  ﹒  ﹒  ﹒\n",
      " 14  ﹒  ﹒  ﹒  ﹒  ﹒  ﹒  ﹒  ﹒  ﹒  ﹒  ﹒  ﹒  ﹒  ﹒  ﹒  ﹒  ﹒  ﹒  ﹒\n",
      " 15  ﹒  ﹒  ﹒  ﹒  ﹒  ﹒  ﹒  ﹒  ﹒  ﹒  ﹒  ﹒  ﹒  ﹒  ﹒  ﹒  ﹒  ﹒  ﹒\n",
      " 16  ﹒  ﹒  ﹒  ﹒  ﹒  ﹒  ﹒  ﹒  ﹒  ﹒  ﹒  ﹒  ﹒  ﹒  ﹒  ﹒  ﹒  ﹒  ﹒\n",
      " 17  ﹒  ﹒  ﹒  ﹒  ﹒  ﹒  ﹒  ﹒  ﹒  ﹒  ﹒  ﹒  ﹒  ﹒  ﹒  ﹒  ﹒  ﹒  ﹒\n",
      " 18  ﹒  ﹒  ﹒  ﹒  ﹒  ﹒  ﹒  ﹒  ﹒  ﹒  ﹒  ﹒  ﹒  ﹒  ﹒  ﹒  ﹒  ﹒  ﹒\n",
      "\n",
      "-> White\n",
      "- Placing stone at: Position(x: 15, y: 15)\n",
      "\n",
      "x/y  0  1  2  3  4  5  6  7  8  9 10 11 12 13 14 15 16 17 18\n",
      "  0  ﹒  ﹒  ﹒  ﹒  ﹒  ﹒  ﹒  ﹒  ﹒  ﹒  ﹒  ﹒  ﹒  ﹒  ﹒  ﹒  ﹒  ﹒  ﹒\n",
      "  1  ﹒  ﹒  ﹒  ﹒  ﹒  ﹒  ﹒  ﹒  ﹒  ﹒  ﹒  ﹒  ﹒  ﹒  ﹒  ﹒  ﹒  ﹒  ﹒\n",
      "  2  ﹒  ﹒  ﹒  ﹒  ﹒  ﹒  ﹒  ﹒  ﹒  ﹒  ﹒  ﹒  ﹒  ﹒  ﹒  ﹒  ﹒  ﹒  ﹒\n",
      "  3  ﹒  ﹒  ﹒  ﹒  ﹒  ﹒  ﹒  ﹒  ﹒  ﹒  ﹒  ﹒  ﹒  ﹒  ﹒  🔵  ﹒  ﹒  ﹒\n",
      "  4  ﹒  ﹒  ﹒  ﹒  ﹒  ﹒  ﹒  ﹒  ﹒  ﹒  ﹒  ﹒  ﹒  ﹒  ﹒  ﹒  ﹒  ﹒  ﹒\n",
      "  5  ﹒  ﹒  ﹒  ﹒  ﹒  ﹒  ﹒  ﹒  ﹒  ﹒  ﹒  ﹒  ﹒  ﹒  ﹒  ﹒  ﹒  ﹒  ﹒\n",
      "  6  ﹒  ﹒  ﹒  ﹒  ﹒  ﹒  ﹒  ﹒  ﹒  ﹒  ﹒  ﹒  ﹒  ﹒  ﹒  ﹒  ﹒  ﹒  ﹒\n",
      "  7  ﹒  ﹒  ﹒  ﹒  ﹒  ﹒  ﹒  ﹒  ﹒  ﹒  ﹒  ﹒  ﹒  ﹒  ﹒  ﹒  ﹒  ﹒  ﹒\n",
      "  8  ﹒  ﹒  ﹒  ﹒  ﹒  ﹒  ﹒  ﹒  ﹒  ﹒  ﹒  ﹒  ﹒  ﹒  ﹒  ﹒  ﹒  ﹒  ﹒\n",
      "  9  ﹒  ﹒  ﹒  ﹒  ﹒  ﹒  ﹒  ﹒  ﹒  ﹒  ﹒  ﹒  ﹒  ﹒  ﹒  ﹒  ﹒  ﹒  ﹒\n",
      " 10  ﹒  ﹒  ﹒  ﹒  ﹒  ﹒  ﹒  ﹒  ﹒  ﹒  ﹒  ﹒  ﹒  ﹒  ﹒  ﹒  ﹒  ﹒  ﹒\n",
      " 11  ﹒  ﹒  ﹒  ﹒  ﹒  ﹒  ﹒  ﹒  ﹒  ﹒  ﹒  ﹒  ﹒  ﹒  ﹒  ﹒  ﹒  ﹒  ﹒\n",
      " 12  ﹒  ﹒  ﹒  ﹒  ﹒  ﹒  ﹒  ﹒  ﹒  ﹒  ﹒  ﹒  ﹒  ﹒  ﹒  ﹒  ﹒  ﹒  ﹒\n",
      " 13  ﹒  ﹒  ﹒  ﹒  ﹒  ﹒  ﹒  ﹒  ﹒  ﹒  ﹒  ﹒  ﹒  ﹒  ﹒  ﹒  ﹒  ﹒  ﹒\n",
      " 14  ﹒  ﹒  ﹒  ﹒  ﹒  ﹒  ﹒  ﹒  ﹒  ﹒  ﹒  ﹒  ﹒  ﹒  ﹒  ﹒  ﹒  ﹒  ﹒\n",
      " 15  ﹒  ﹒  ﹒  ﹒  ﹒  ﹒  ﹒  ﹒  ﹒  ﹒  ﹒  ﹒  ﹒  ﹒  ﹒  ⚪  ﹒  ﹒  ﹒\n",
      " 16  ﹒  ﹒  ﹒  ﹒  ﹒  ﹒  ﹒  ﹒  ﹒  ﹒  ﹒  ﹒  ﹒  ﹒  ﹒  ﹒  ﹒  ﹒  ﹒\n",
      " 17  ﹒  ﹒  ﹒  ﹒  ﹒  ﹒  ﹒  ﹒  ﹒  ﹒  ﹒  ﹒  ﹒  ﹒  ﹒  ﹒  ﹒  ﹒  ﹒\n",
      " 18  ﹒  ﹒  ﹒  ﹒  ﹒  ﹒  ﹒  ﹒  ﹒  ﹒  ﹒  ﹒  ﹒  ﹒  ﹒  ﹒  ﹒  ﹒  ﹒\n",
      "\n",
      "-> Black\n",
      "- Placing stone at: Position(x: 3, y: 3)\n",
      "\n",
      "x/y  0  1  2  3  4  5  6  7  8  9 10 11 12 13 14 15 16 17 18\n",
      "  0  ﹒  ﹒  ﹒  ﹒  ﹒  ﹒  ﹒  ﹒  ﹒  ﹒  ﹒  ﹒  ﹒  ﹒  ﹒  ﹒  ﹒  ﹒  ﹒\n",
      "  1  ﹒  ﹒  ﹒  ﹒  ﹒  ﹒  ﹒  ﹒  ﹒  ﹒  ﹒  ﹒  ﹒  ﹒  ﹒  ﹒  ﹒  ﹒  ﹒\n",
      "  2  ﹒  ﹒  ﹒  ﹒  ﹒  ﹒  ﹒  ﹒  ﹒  ﹒  ﹒  ﹒  ﹒  ﹒  ﹒  ﹒  ﹒  ﹒  ﹒\n",
      "  3  ﹒  ﹒  ﹒  🔵  ﹒  ﹒  ﹒  ﹒  ﹒  ﹒  ﹒  ﹒  ﹒  ﹒  ﹒  🔵  ﹒  ﹒  ﹒\n",
      "  4  ﹒  ﹒  ﹒  ﹒  ﹒  ﹒  ﹒  ﹒  ﹒  ﹒  ﹒  ﹒  ﹒  ﹒  ﹒  ﹒  ﹒  ﹒  ﹒\n",
      "  5  ﹒  ﹒  ﹒  ﹒  ﹒  ﹒  ﹒  ﹒  ﹒  ﹒  ﹒  ﹒  ﹒  ﹒  ﹒  ﹒  ﹒  ﹒  ﹒\n",
      "  6  ﹒  ﹒  ﹒  ﹒  ﹒  ﹒  ﹒  ﹒  ﹒  ﹒  ﹒  ﹒  ﹒  ﹒  ﹒  ﹒  ﹒  ﹒  ﹒\n",
      "  7  ﹒  ﹒  ﹒  ﹒  ﹒  ﹒  ﹒  ﹒  ﹒  ﹒  ﹒  ﹒  ﹒  ﹒  ﹒  ﹒  ﹒  ﹒  ﹒\n",
      "  8  ﹒  ﹒  ﹒  ﹒  ﹒  ﹒  ﹒  ﹒  ﹒  ﹒  ﹒  ﹒  ﹒  ﹒  ﹒  ﹒  ﹒  ﹒  ﹒\n",
      "  9  ﹒  ﹒  ﹒  ﹒  ﹒  ﹒  ﹒  ﹒  ﹒  ﹒  ﹒  ﹒  ﹒  ﹒  ﹒  ﹒  ﹒  ﹒  ﹒\n",
      " 10  ﹒  ﹒  ﹒  ﹒  ﹒  ﹒  ﹒  ﹒  ﹒  ﹒  ﹒  ﹒  ﹒  ﹒  ﹒  ﹒  ﹒  ﹒  ﹒\n",
      " 11  ﹒  ﹒  ﹒  ﹒  ﹒  ﹒  ﹒  ﹒  ﹒  ﹒  ﹒  ﹒  ﹒  ﹒  ﹒  ﹒  ﹒  ﹒  ﹒\n",
      " 12  ﹒  ﹒  ﹒  ﹒  ﹒  ﹒  ﹒  ﹒  ﹒  ﹒  ﹒  ﹒  ﹒  ﹒  ﹒  ﹒  ﹒  ﹒  ﹒\n",
      " 13  ﹒  ﹒  ﹒  ﹒  ﹒  ﹒  ﹒  ﹒  ﹒  ﹒  ﹒  ﹒  ﹒  ﹒  ﹒  ﹒  ﹒  ﹒  ﹒\n",
      " 14  ﹒  ﹒  ﹒  ﹒  ﹒  ﹒  ﹒  ﹒  ﹒  ﹒  ﹒  ﹒  ﹒  ﹒  ﹒  ﹒  ﹒  ﹒  ﹒\n",
      " 15  ﹒  ﹒  ﹒  ﹒  ﹒  ﹒  ﹒  ﹒  ﹒  ﹒  ﹒  ﹒  ﹒  ﹒  ﹒  ⚪  ﹒  ﹒  ﹒\n",
      " 16  ﹒  ﹒  ﹒  ﹒  ﹒  ﹒  ﹒  ﹒  ﹒  ﹒  ﹒  ﹒  ﹒  ﹒  ﹒  ﹒  ﹒  ﹒  ﹒\n",
      " 17  ﹒  ﹒  ﹒  ﹒  ﹒  ﹒  ﹒  ﹒  ﹒  ﹒  ﹒  ﹒  ﹒  ﹒  ﹒  ﹒  ﹒  ﹒  ﹒\n",
      " 18  ﹒  ﹒  ﹒  ﹒  ﹒  ﹒  ﹒  ﹒  ﹒  ﹒  ﹒  ﹒  ﹒  ﹒  ﹒  ﹒  ﹒  ﹒  ﹒\n",
      "\n",
      "-> White\n",
      "- Placing stone at: Position(x: 15, y: 3)\n",
      "\n",
      "x/y  0  1  2  3  4  5  6  7  8  9 10 11 12 13 14 15 16 17 18\n",
      "  0  ﹒  ﹒  ﹒  ﹒  ﹒  ﹒  ﹒  ﹒  ﹒  ﹒  ﹒  ﹒  ﹒  ﹒  ﹒  ﹒  ﹒  ﹒  ﹒\n",
      "  1  ﹒  ﹒  ﹒  ﹒  ﹒  ﹒  ﹒  ﹒  ﹒  ﹒  ﹒  ﹒  ﹒  ﹒  ﹒  ﹒  ﹒  ﹒  ﹒\n",
      "  2  ﹒  ﹒  ﹒  ﹒  ﹒  ﹒  ﹒  ﹒  ﹒  ﹒  ﹒  ﹒  ﹒  ﹒  ﹒  ﹒  ﹒  ﹒  ﹒\n",
      "  3  ﹒  ﹒  ﹒  🔵  ﹒  ﹒  ﹒  ﹒  ﹒  ﹒  ﹒  ﹒  ﹒  ﹒  ﹒  🔵  ﹒  ﹒  ﹒\n",
      "  4  ﹒  ﹒  ﹒  ﹒  ﹒  ﹒  ﹒  ﹒  ﹒  ﹒  ﹒  ﹒  ﹒  ﹒  ﹒  ﹒  ﹒  ﹒  ﹒\n",
      "  5  ﹒  ﹒  ﹒  ﹒  ﹒  ﹒  ﹒  ﹒  ﹒  ﹒  ﹒  ﹒  ﹒  ﹒  ﹒  ﹒  ﹒  ﹒  ﹒\n",
      "  6  ﹒  ﹒  ﹒  ﹒  ﹒  ﹒  ﹒  ﹒  ﹒  ﹒  ﹒  ﹒  ﹒  ﹒  ﹒  ﹒  ﹒  ﹒  ﹒\n",
      "  7  ﹒  ﹒  ﹒  ﹒  ﹒  ﹒  ﹒  ﹒  ﹒  ﹒  ﹒  ﹒  ﹒  ﹒  ﹒  ﹒  ﹒  ﹒  ﹒\n",
      "  8  ﹒  ﹒  ﹒  ﹒  ﹒  ﹒  ﹒  ﹒  ﹒  ﹒  ﹒  ﹒  ﹒  ﹒  ﹒  ﹒  ﹒  ﹒  ﹒\n",
      "  9  ﹒  ﹒  ﹒  ﹒  ﹒  ﹒  ﹒  ﹒  ﹒  ﹒  ﹒  ﹒  ﹒  ﹒  ﹒  ﹒  ﹒  ﹒  ﹒\n",
      " 10  ﹒  ﹒  ﹒  ﹒  ﹒  ﹒  ﹒  ﹒  ﹒  ﹒  ﹒  ﹒  ﹒  ﹒  ﹒  ﹒  ﹒  ﹒  ﹒\n",
      " 11  ﹒  ﹒  ﹒  ﹒  ﹒  ﹒  ﹒  ﹒  ﹒  ﹒  ﹒  ﹒  ﹒  ﹒  ﹒  ﹒  ﹒  ﹒  ﹒\n",
      " 12  ﹒  ﹒  ﹒  ﹒  ﹒  ﹒  ﹒  ﹒  ﹒  ﹒  ﹒  ﹒  ﹒  ﹒  ﹒  ﹒  ﹒  ﹒  ﹒\n",
      " 13  ﹒  ﹒  ﹒  ﹒  ﹒  ﹒  ﹒  ﹒  ﹒  ﹒  ﹒  ﹒  ﹒  ﹒  ﹒  ﹒  ﹒  ﹒  ﹒\n",
      " 14  ﹒  ﹒  ﹒  ﹒  ﹒  ﹒  ﹒  ﹒  ﹒  ﹒  ﹒  ﹒  ﹒  ﹒  ﹒  ﹒  ﹒  ﹒  ﹒\n",
      " 15  ﹒  ﹒  ﹒  ⚪  ﹒  ﹒  ﹒  ﹒  ﹒  ﹒  ﹒  ﹒  ﹒  ﹒  ﹒  ⚪  ﹒  ﹒  ﹒\n",
      " 16  ﹒  ﹒  ﹒  ﹒  ﹒  ﹒  ﹒  ﹒  ﹒  ﹒  ﹒  ﹒  ﹒  ﹒  ﹒  ﹒  ﹒  ﹒  ﹒\n",
      " 17  ﹒  ﹒  ﹒  ﹒  ﹒  ﹒  ﹒  ﹒  ﹒  ﹒  ﹒  ﹒  ﹒  ﹒  ﹒  ﹒  ﹒  ﹒  ﹒\n",
      " 18  ﹒  ﹒  ﹒  ﹒  ﹒  ﹒  ﹒  ﹒  ﹒  ﹒  ﹒  ﹒  ﹒  ﹒  ﹒  ﹒  ﹒  ﹒  ﹒\n",
      "\n",
      "-> Black\n",
      "- Placing stone at: Position(x: 13, y: 2)\n",
      "\n",
      "x/y  0  1  2  3  4  5  6  7  8  9 10 11 12 13 14 15 16 17 18\n",
      "  0  ﹒  ﹒  ﹒  ﹒  ﹒  ﹒  ﹒  ﹒  ﹒  ﹒  ﹒  ﹒  ﹒  ﹒  ﹒  ﹒  ﹒  ﹒  ﹒\n",
      "  1  ﹒  ﹒  ﹒  ﹒  ﹒  ﹒  ﹒  ﹒  ﹒  ﹒  ﹒  ﹒  ﹒  ﹒  ﹒  ﹒  ﹒  ﹒  ﹒\n",
      "  2  ﹒  ﹒  ﹒  ﹒  ﹒  ﹒  ﹒  ﹒  ﹒  ﹒  ﹒  ﹒  ﹒  ﹒  ﹒  ﹒  ﹒  ﹒  ﹒\n",
      "  3  ﹒  ﹒  ﹒  🔵  ﹒  ﹒  ﹒  ﹒  ﹒  ﹒  ﹒  ﹒  ﹒  ﹒  ﹒  🔵  ﹒  ﹒  ﹒\n",
      "  4  ﹒  ﹒  ﹒  ﹒  ﹒  ﹒  ﹒  ﹒  ﹒  ﹒  ﹒  ﹒  ﹒  ﹒  ﹒  ﹒  ﹒  ﹒  ﹒\n",
      "  5  ﹒  ﹒  ﹒  ﹒  ﹒  ﹒  ﹒  ﹒  ﹒  ﹒  ﹒  ﹒  ﹒  ﹒  ﹒  ﹒  ﹒  ﹒  ﹒\n",
      "  6  ﹒  ﹒  ﹒  ﹒  ﹒  ﹒  ﹒  ﹒  ﹒  ﹒  ﹒  ﹒  ﹒  ﹒  ﹒  ﹒  ﹒  ﹒  ﹒\n",
      "  7  ﹒  ﹒  ﹒  ﹒  ﹒  ﹒  ﹒  ﹒  ﹒  ﹒  ﹒  ﹒  ﹒  ﹒  ﹒  ﹒  ﹒  ﹒  ﹒\n",
      "  8  ﹒  ﹒  ﹒  ﹒  ﹒  ﹒  ﹒  ﹒  ﹒  ﹒  ﹒  ﹒  ﹒  ﹒  ﹒  ﹒  ﹒  ﹒  ﹒\n",
      "  9  ﹒  ﹒  ﹒  ﹒  ﹒  ﹒  ﹒  ﹒  ﹒  ﹒  ﹒  ﹒  ﹒  ﹒  ﹒  ﹒  ﹒  ﹒  ﹒\n",
      " 10  ﹒  ﹒  ﹒  ﹒  ﹒  ﹒  ﹒  ﹒  ﹒  ﹒  ﹒  ﹒  ﹒  ﹒  ﹒  ﹒  ﹒  ﹒  ﹒\n",
      " 11  ﹒  ﹒  ﹒  ﹒  ﹒  ﹒  ﹒  ﹒  ﹒  ﹒  ﹒  ﹒  ﹒  ﹒  ﹒  ﹒  ﹒  ﹒  ﹒\n",
      " 12  ﹒  ﹒  ﹒  ﹒  ﹒  ﹒  ﹒  ﹒  ﹒  ﹒  ﹒  ﹒  ﹒  ﹒  ﹒  ﹒  ﹒  ﹒  ﹒\n",
      " 13  ﹒  ﹒  🔵  ﹒  ﹒  ﹒  ﹒  ﹒  ﹒  ﹒  ﹒  ﹒  ﹒  ﹒  ﹒  ﹒  ﹒  ﹒  ﹒\n",
      " 14  ﹒  ﹒  ﹒  ﹒  ﹒  ﹒  ﹒  ﹒  ﹒  ﹒  ﹒  ﹒  ﹒  ﹒  ﹒  ﹒  ﹒  ﹒  ﹒\n",
      " 15  ﹒  ﹒  ﹒  ⚪  ﹒  ﹒  ﹒  ﹒  ﹒  ﹒  ﹒  ﹒  ﹒  ﹒  ﹒  ⚪  ﹒  ﹒  ﹒\n",
      " 16  ﹒  ﹒  ﹒  ﹒  ﹒  ﹒  ﹒  ﹒  ﹒  ﹒  ﹒  ﹒  ﹒  ﹒  ﹒  ﹒  ﹒  ﹒  ﹒\n",
      " 17  ﹒  ﹒  ﹒  ﹒  ﹒  ﹒  ﹒  ﹒  ﹒  ﹒  ﹒  ﹒  ﹒  ﹒  ﹒  ﹒  ﹒  ﹒  ﹒\n",
      " 18  ﹒  ﹒  ﹒  ﹒  ﹒  ﹒  ﹒  ﹒  ﹒  ﹒  ﹒  ﹒  ﹒  ﹒  ﹒  ﹒  ﹒  ﹒  ﹒\n",
      "\n",
      "-> White\n",
      "- Placing stone at: Position(x: 11, y: 2)\n",
      "\n",
      "x/y  0  1  2  3  4  5  6  7  8  9 10 11 12 13 14 15 16 17 18\n",
      "  0  ﹒  ﹒  ﹒  ﹒  ﹒  ﹒  ﹒  ﹒  ﹒  ﹒  ﹒  ﹒  ﹒  ﹒  ﹒  ﹒  ﹒  ﹒  ﹒\n",
      "  1  ﹒  ﹒  ﹒  ﹒  ﹒  ﹒  ﹒  ﹒  ﹒  ﹒  ﹒  ﹒  ﹒  ﹒  ﹒  ﹒  ﹒  ﹒  ﹒\n",
      "  2  ﹒  ﹒  ﹒  ﹒  ﹒  ﹒  ﹒  ﹒  ﹒  ﹒  ﹒  ﹒  ﹒  ﹒  ﹒  ﹒  ﹒  ﹒  ﹒\n",
      "  3  ﹒  ﹒  ﹒  🔵  ﹒  ﹒  ﹒  ﹒  ﹒  ﹒  ﹒  ﹒  ﹒  ﹒  ﹒  🔵  ﹒  ﹒  ﹒\n",
      "  4  ﹒  ﹒  ﹒  ﹒  ﹒  ﹒  ﹒  ﹒  ﹒  ﹒  ﹒  ﹒  ﹒  ﹒  ﹒  ﹒  ﹒  ﹒  ﹒\n",
      "  5  ﹒  ﹒  ﹒  ﹒  ﹒  ﹒  ﹒  ﹒  ﹒  ﹒  ﹒  ﹒  ﹒  ﹒  ﹒  ﹒  ﹒  ﹒  ﹒\n",
      "  6  ﹒  ﹒  ﹒  ﹒  ﹒  ﹒  ﹒  ﹒  ﹒  ﹒  ﹒  ﹒  ﹒  ﹒  ﹒  ﹒  ﹒  ﹒  ﹒\n",
      "  7  ﹒  ﹒  ﹒  ﹒  ﹒  ﹒  ﹒  ﹒  ﹒  ﹒  ﹒  ﹒  ﹒  ﹒  ﹒  ﹒  ﹒  ﹒  ﹒\n",
      "  8  ﹒  ﹒  ﹒  ﹒  ﹒  ﹒  ﹒  ﹒  ﹒  ﹒  ﹒  ﹒  ﹒  ﹒  ﹒  ﹒  ﹒  ﹒  ﹒\n",
      "  9  ﹒  ﹒  ﹒  ﹒  ﹒  ﹒  ﹒  ﹒  ﹒  ﹒  ﹒  ﹒  ﹒  ﹒  ﹒  ﹒  ﹒  ﹒  ﹒\n",
      " 10  ﹒  ﹒  ﹒  ﹒  ﹒  ﹒  ﹒  ﹒  ﹒  ﹒  ﹒  ﹒  ﹒  ﹒  ﹒  ﹒  ﹒  ﹒  ﹒\n",
      " 11  ﹒  ﹒  ⚪  ﹒  ﹒  ﹒  ﹒  ﹒  ﹒  ﹒  ﹒  ﹒  ﹒  ﹒  ﹒  ﹒  ﹒  ﹒  ﹒\n",
      " 12  ﹒  ﹒  ﹒  ﹒  ﹒  ﹒  ﹒  ﹒  ﹒  ﹒  ﹒  ﹒  ﹒  ﹒  ﹒  ﹒  ﹒  ﹒  ﹒\n",
      " 13  ﹒  ﹒  🔵  ﹒  ﹒  ﹒  ﹒  ﹒  ﹒  ﹒  ﹒  ﹒  ﹒  ﹒  ﹒  ﹒  ﹒  ﹒  ﹒\n",
      " 14  ﹒  ﹒  ﹒  ﹒  ﹒  ﹒  ﹒  ﹒  ﹒  ﹒  ﹒  ﹒  ﹒  ﹒  ﹒  ﹒  ﹒  ﹒  ﹒\n",
      " 15  ﹒  ﹒  ﹒  ⚪  ﹒  ﹒  ﹒  ﹒  ﹒  ﹒  ﹒  ﹒  ﹒  ﹒  ﹒  ⚪  ﹒  ﹒  ﹒\n",
      " 16  ﹒  ﹒  ﹒  ﹒  ﹒  ﹒  ﹒  ﹒  ﹒  ﹒  ﹒  ﹒  ﹒  ﹒  ﹒  ﹒  ﹒  ﹒  ﹒\n",
      " 17  ﹒  ﹒  ﹒  ﹒  ﹒  ﹒  ﹒  ﹒  ﹒  ﹒  ﹒  ﹒  ﹒  ﹒  ﹒  ﹒  ﹒  ﹒  ﹒\n",
      " 18  ﹒  ﹒  ﹒  ﹒  ﹒  ﹒  ﹒  ﹒  ﹒  ﹒  ﹒  ﹒  ﹒  ﹒  ﹒  ﹒  ﹒  ﹒  ﹒\n",
      "\n",
      "-> Black\n"
     ]
    },
    {
     "name": "stdout",
     "output_type": "stream",
     "text": [
      "- Placing stone at: Position(x: 13, y: 16)\r\n",
      "\r\n",
      "x/y  0  1  2  3  4  5  6  7  8  9 10 11 12 13 14 15 16 17 18\r\n",
      "  0  ﹒  ﹒  ﹒  ﹒  ﹒  ﹒  ﹒  ﹒  ﹒  ﹒  ﹒  ﹒  ﹒  ﹒  ﹒  ﹒  ﹒  ﹒  ﹒\r\n",
      "  1  ﹒  ﹒  ﹒  ﹒  ﹒  ﹒  ﹒  ﹒  ﹒  ﹒  ﹒  ﹒  ﹒  ﹒  ﹒  ﹒  ﹒  ﹒  ﹒\r\n",
      "  2  ﹒  ﹒  ﹒  ﹒  ﹒  ﹒  ﹒  ﹒  ﹒  ﹒  ﹒  ﹒  ﹒  ﹒  ﹒  ﹒  ﹒  ﹒  ﹒\r\n",
      "  3  ﹒  ﹒  ﹒  🔵  ﹒  ﹒  ﹒  ﹒  ﹒  ﹒  ﹒  ﹒  ﹒  ﹒  ﹒  🔵  ﹒  ﹒  ﹒\r\n",
      "  4  ﹒  ﹒  ﹒  ﹒  ﹒  ﹒  ﹒  ﹒  ﹒  ﹒  ﹒  ﹒  ﹒  ﹒  ﹒  ﹒  ﹒  ﹒  ﹒\r\n",
      "  5  ﹒  ﹒  ﹒  ﹒  ﹒  ﹒  ﹒  ﹒  ﹒  ﹒  ﹒  ﹒  ﹒  ﹒  ﹒  ﹒  ﹒  ﹒  ﹒\r\n",
      "  6  ﹒  ﹒  ﹒  ﹒  ﹒  ﹒  ﹒  ﹒  ﹒  ﹒  ﹒  ﹒  ﹒  ﹒  ﹒  ﹒  ﹒  ﹒  ﹒\r\n",
      "  7  ﹒  ﹒  ﹒  ﹒  ﹒  ﹒  ﹒  ﹒  ﹒  ﹒  ﹒  ﹒  ﹒  ﹒  ﹒  ﹒  ﹒  ﹒  ﹒\r\n",
      "  8  ﹒  ﹒  ﹒  ﹒  ﹒  ﹒  ﹒  ﹒  ﹒  ﹒  ﹒  ﹒  ﹒  ﹒  ﹒  ﹒  ﹒  ﹒  ﹒\r\n",
      "  9  ﹒  ﹒  ﹒  ﹒  ﹒  ﹒  ﹒  ﹒  ﹒  ﹒  ﹒  ﹒  ﹒  ﹒  ﹒  ﹒  ﹒  ﹒  ﹒\r\n",
      " 10  ﹒  ﹒  ﹒  ﹒  ﹒  ﹒  ﹒  ﹒  ﹒  ﹒  ﹒  ﹒  ﹒  ﹒  ﹒  ﹒  ﹒  ﹒  ﹒\r\n",
      " 11  ﹒  ﹒  ⚪  ﹒  ﹒  ﹒  ﹒  ﹒  ﹒  ﹒  ﹒  ﹒  ﹒  ﹒  ﹒  ﹒  ﹒  ﹒  ﹒\r\n",
      " 12  ﹒  ﹒  ﹒  ﹒  ﹒  ﹒  ﹒  ﹒  ﹒  ﹒  ﹒  ﹒  ﹒  ﹒  ﹒  ﹒  ﹒  ﹒  ﹒\r\n",
      " 13  ﹒  ﹒  🔵  ﹒  ﹒  ﹒  ﹒  ﹒  ﹒  ﹒  ﹒  ﹒  ﹒  ﹒  ﹒  ﹒  🔵  ﹒  ﹒\r\n",
      " 14  ﹒  ﹒  ﹒  ﹒  ﹒  ﹒  ﹒  ﹒  ﹒  ﹒  ﹒  ﹒  ﹒  ﹒  ﹒  ﹒  ﹒  ﹒  ﹒\r\n",
      " 15  ﹒  ﹒  ﹒  ⚪  ﹒  ﹒  ﹒  ﹒  ﹒  ﹒  ﹒  ﹒  ﹒  ﹒  ﹒  ⚪  ﹒  ﹒  ﹒\r\n",
      " 16  ﹒  ﹒  ﹒  ﹒  ﹒  ﹒  ﹒  ﹒  ﹒  ﹒  ﹒  ﹒  ﹒  ﹒  ﹒  ﹒  ﹒  ﹒  ﹒\r\n",
      " 17  ﹒  ﹒  ﹒  ﹒  ﹒  ﹒  ﹒  ﹒  ﹒  ﹒  ﹒  ﹒  ﹒  ﹒  ﹒  ﹒  ﹒  ﹒  ﹒\r\n",
      " 18  ﹒  ﹒  ﹒  ﹒  ﹒  ﹒  ﹒  ﹒  ﹒  ﹒  ﹒  ﹒  ﹒  ﹒  ﹒  ﹒  ﹒  ﹒  ﹒\r\n",
      "\r\n",
      "-> White\r\n"
     ]
    },
    {
     "ename": "",
     "evalue": "",
     "output_type": "error",
     "traceback": [
      "Current stack trace:",
      "\tframe #32: 0x00007f8802f4237b $__lldb_expr48`main at <Cell 5>:1:5"
     ]
    }
   ],
   "source": [
    "try playOneGame(\n",
    "    gameConfiguration: config,\n",
    "    participants: [\n",
    "        MCTSPolicy(participantName: \"black\", predictor: predictor,\n",
    "                   configuration: mctsConfiguration),\n",
    "        MCTSPolicy(participantName: \"white\", predictor: predictor,\n",
    "                   configuration: mctsConfiguration),\n",
    "    ])"
   ]
  }
 ],
 "metadata": {
  "accelerator": "GPU",
  "colab": {
   "collapsed_sections": [],
   "include_colab_link": true,
   "name": "Demo 4 - MiniGo.ipynb",
   "provenance": [],
   "version": "0.3.2"
  },
  "kernelspec": {
   "display_name": "Swift",
   "language": "swift",
   "name": "swift"
  },
  "language_info": {
   "file_extension": ".swift",
   "mimetype": "text/x-swift",
   "name": "swift",
   "version": ""
  }
 },
 "nbformat": 4,
 "nbformat_minor": 1
}
